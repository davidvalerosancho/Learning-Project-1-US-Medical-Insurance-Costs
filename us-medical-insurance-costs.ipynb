{
 "cells": [
  {
   "cell_type": "markdown",
   "metadata": {},
   "source": [
    "# U.S. Medical Insurance Costs\n",
    "\n",
    "In this project I apply my knowledge on Python functions and classes to analyze real data on US medical insurance costs. This project is meant as a steping stone in my development as a professional Data Scientist."
   ]
  },
  {
   "cell_type": "markdown",
   "metadata": {},
   "source": [
    "For this project I will be working with a csv file containing data on a number of US patients. First I define a function which gets the column names of the csv file and turns them into a python list."
   ]
  },
  {
   "cell_type": "code",
   "execution_count": 3,
   "metadata": {},
   "outputs": [],
   "source": [
    "def column_names_list(csv_reader):\n",
    "    first_row = {}\n",
    "    count = 0\n",
    "    for row in csv_reader:\n",
    "        while count < 1:\n",
    "            first_row = row\n",
    "            count += 1\n",
    "    column_names_list = []\n",
    "    for column_name in first_row.keys():\n",
    "        column_names_list.append(column_name)\n",
    "    return column_names_list"
   ]
  },
  {
   "cell_type": "markdown",
   "metadata": {},
   "source": [
    "I use my `column_names_list` function to print out the column names. Now I know what kind of variables are contained in the data set."
   ]
  },
  {
   "cell_type": "code",
   "execution_count": 4,
   "metadata": {},
   "outputs": [
    {
     "name": "stdout",
     "output_type": "stream",
     "text": [
      "age\n",
      "sex\n",
      "bmi\n",
      "children\n",
      "smoker\n",
      "region\n",
      "charges\n"
     ]
    }
   ],
   "source": [
    "import csv\n",
    "\n",
    "with open(r'C:\\Users\\dvale\\Desktop\\insurance.csv') as insurance_csv:\n",
    "    insurance_reader = csv.DictReader(insurance_csv)\n",
    "    insurance_column_names_list = column_names_list(insurance_reader)\n",
    "    for name in insurance_column_names_list:\n",
    "        print(name)"
   ]
  },
  {
   "cell_type": "markdown",
   "metadata": {},
   "source": [
    "I store the values of each column as individual lists."
   ]
  },
  {
   "cell_type": "code",
   "execution_count": 5,
   "metadata": {},
   "outputs": [],
   "source": [
    "age = []\n",
    "sex = []\n",
    "bmi = []\n",
    "children = []\n",
    "smoker = []\n",
    "region = []\n",
    "charges = []\n",
    "\n",
    "with open(r'C:\\Users\\dvale\\Desktop\\insurance.csv') as insurance_csv:\n",
    "    insurance_reader = csv.DictReader(insurance_csv)\n",
    "    for row in insurance_reader:\n",
    "        age.append(row['age'])\n",
    "        sex.append(row['sex'])\n",
    "        bmi.append(row['bmi'])\n",
    "        children.append(row['children'])\n",
    "        smoker.append(row['smoker'])\n",
    "        region.append(row['region'])\n",
    "        charges.append(row['charges'])"
   ]
  },
  {
   "cell_type": "markdown",
   "metadata": {},
   "source": [
    "And also create a dictionary containing all the information in the data set."
   ]
  },
  {
   "cell_type": "code",
   "execution_count": 6,
   "metadata": {},
   "outputs": [],
   "source": [
    "insurance_dict = {}\n",
    "\n",
    "with open(r'C:\\Users\\dvale\\Desktop\\insurance.csv') as insurance_csv:\n",
    "    insurance_reader = csv.DictReader(insurance_csv)\n",
    "    insurance_column_names_list = column_names_list(insurance_reader)\n",
    "    for name in insurance_column_names_list:\n",
    "        insurance_dict[name] = []\n",
    "\n",
    "insurance_dict['age'] = age\n",
    "insurance_dict['sex'] = sex\n",
    "insurance_dict['bmi'] = bmi\n",
    "insurance_dict['children'] = children\n",
    "insurance_dict['smoker'] = smoker\n",
    "insurance_dict['region'] = region\n",
    "insurance_dict['charges'] = charges"
   ]
  },
  {
   "cell_type": "markdown",
   "metadata": {},
   "source": [
    "Once I have my dictionary I can make sure there is no missing values. I can also check which of my variables are categorical and which are continious."
   ]
  },
  {
   "cell_type": "code",
   "execution_count": 7,
   "metadata": {},
   "outputs": [
    {
     "name": "stdout",
     "output_type": "stream",
     "text": [
      "Name of value: age, Num of values: 1338, Value example: 19, Python class type: <class 'str'>\n",
      "Name of value: sex, Num of values: 1338, Value example: female, Python class type: <class 'str'>\n",
      "Name of value: bmi, Num of values: 1338, Value example: 27.9, Python class type: <class 'str'>\n",
      "Name of value: children, Num of values: 1338, Value example: 0, Python class type: <class 'str'>\n",
      "Name of value: smoker, Num of values: 1338, Value example: yes, Python class type: <class 'str'>\n",
      "Name of value: region, Num of values: 1338, Value example: southwest, Python class type: <class 'str'>\n",
      "Name of value: charges, Num of values: 1338, Value example: 16884.924, Python class type: <class 'str'>\n"
     ]
    }
   ],
   "source": [
    "for key, value in insurance_dict.items():\n",
    "    print('Name of value: {}, Num of values: {}, Value example: {}, Python class type: {}'.format(key, len(value), value[0], type(value[0])))"
   ]
  },
  {
   "cell_type": "markdown",
   "metadata": {},
   "source": [
    "Since my countinious variables have `class 'str'` I need to update their types ino `int` and `float`."
   ]
  },
  {
   "cell_type": "code",
   "execution_count": 9,
   "metadata": {},
   "outputs": [],
   "source": [
    "updated_insurance_dict = {}\n",
    "for key in insurance_dict.keys():\n",
    "    updated_insurance_dict[key] = []\n",
    "\n",
    "for key, value in insurance_dict.items():\n",
    "    try:\n",
    "        for item in value:\n",
    "            updated_insurance_dict[key].append(int(item))\n",
    "    except ValueError:\n",
    "        try:\n",
    "            for item in value:\n",
    "                updated_insurance_dict[key].append(float(item))\n",
    "        except ValueError:\n",
    "            for item in value:\n",
    "                updated_insurance_dict[key].append(item)\n",
    "\n",
    "insurance_dict = updated_insurance_dict\n",
    "\n",
    "age = insurance_dict['age']\n",
    "bmi = insurance_dict['bmi']\n",
    "children = insurance_dict['children']\n",
    "charges = insurance_dict['charges']"
   ]
  },
  {
   "cell_type": "markdown",
   "metadata": {},
   "source": [
    "Now I am ready to define a special class with specific methods to aid me in my analysis."
   ]
  },
  {
   "cell_type": "code",
   "execution_count": 72,
   "metadata": {},
   "outputs": [],
   "source": [
    "class InsuranceData:\n",
    "    def __init__(self, age, sex, bmi, children, smoker, region, charges):\n",
    "        self.age = age\n",
    "        self.sex = sex\n",
    "        self.bmi = bmi\n",
    "        self.children = children\n",
    "        self.smoker = smoker\n",
    "        self.region = region\n",
    "        self.charges = charges\n",
    "    \n",
    "    def stat_age(self):\n",
    "        mean = sum(self.age) / len(self.age)\n",
    "        mean_round = round(mean, 2)\n",
    "                \n",
    "        sum_squares = 0\n",
    "        for item in self.age:\n",
    "            sum_squares += (mean - item) ** 2\n",
    "        stdv = (sum_squares / len(self.age)) ** 0.5\n",
    "        stdv_round = round(stdv, 2)\n",
    "    \n",
    "        sorted_list = sorted(self.age)\n",
    "        median = 0\n",
    "        if len(self.age) % 2 == 0:\n",
    "            median = (sorted_list[int(len(self.age)/2)] + sorted_list[int((len(self.age)/2)-1)]) / 2\n",
    "        else:\n",
    "            median = self.age[int(len(self.age)/2)]\n",
    "        median_round = round(median, 2)\n",
    "        \n",
    "        print('The median age is {}, the average age is {} and the age standard deviation is {}.'.format(median_round, mean_round, stdv_round))\n",
    "    \n",
    "    def stat_bmi(self):\n",
    "        mean = sum(self.bmi) / len(self.bmi)\n",
    "        mean_round = round(mean, 2)\n",
    "                \n",
    "        sum_squares = 0\n",
    "        for item in self.bmi:\n",
    "            sum_squares += (mean - item) ** 2\n",
    "        stdv = (sum_squares / len(self.bmi)) ** 0.5\n",
    "        stdv_round = round(stdv, 2)\n",
    "    \n",
    "        sorted_list = sorted(self.bmi)\n",
    "        median = 0\n",
    "        if len(self.bmi) % 2 == 0:\n",
    "            median = (sorted_list[int(len(self.bmi)/2)] + sorted_list[int((len(self.bmi)/2)-1)]) / 2\n",
    "        else:\n",
    "            median = sorted_list[int(len(self.bmi)/2)]\n",
    "        median_round = round(median, 2)\n",
    "        \n",
    "        print('The median BMI is {}, the average BMI is {} and the BMI standard deviation is {}.'.format(median_round, mean_round, stdv_round))\n",
    "    \n",
    "    def stat_charges(self):\n",
    "        mean = sum(self.charges) / len(self.charges)\n",
    "        mean_round = round(mean, 2)\n",
    "                \n",
    "        sum_squares = 0\n",
    "        for item in self.charges:\n",
    "            sum_squares += (mean - item) ** 2\n",
    "        stdv = (sum_squares / len(self.charges)) ** 0.5\n",
    "        stdv_round = round(stdv, 2)\n",
    "    \n",
    "        sorted_list = sorted(self.charges)\n",
    "        median = 0\n",
    "        if len(self.charges) % 2 == 0:\n",
    "            median = (sorted_list[int(len(self.charges)/2)] + sorted_list[int((len(self.charges)/2)-1)]) / 2\n",
    "        else:\n",
    "            median = sorted_list[int(len(self.charges)/2)]\n",
    "        median_round = round(median, 2)\n",
    "\n",
    "        print('The median charge is {}$, the average age is {}$ and the age standard deviation is {}$.'.format(median_round, mean_round, stdv_round))\n",
    "        \n",
    "    def stat_sex(self):\n",
    "        nom_variables = {}\n",
    "        for item in self.sex:\n",
    "            if item in nom_variables:\n",
    "                continue\n",
    "            else:\n",
    "                nom_variables[item] = 0\n",
    "        for item in self.sex:\n",
    "            if item in nom_variables:\n",
    "                nom_variables[item] += 1\n",
    "        \n",
    "        text = ''\n",
    "        for key, value in list(nom_variables.items()):\n",
    "            text += '{}% are {} '.format(round((value/len(self.sex)*100), 2), key)\n",
    "        print(text) \n",
    "    \n",
    "    def stat_smoker(self):\n",
    "        nom_variables = {}\n",
    "        for item in self.smoker:\n",
    "            if item in nom_variables:\n",
    "                continue\n",
    "            else:\n",
    "                nom_variables[item] = 0\n",
    "        for item in self.smoker:\n",
    "            if item in nom_variables:\n",
    "                nom_variables[item] += 1\n",
    "        \n",
    "        text = ''\n",
    "        for key, value in list(nom_variables.items()):\n",
    "            text += '{}% said {} '.format(round((value/len(self.smoker)*100), 2), key)\n",
    "        print(text) \n",
    "        \n",
    "    def stat_region(self):\n",
    "        nom_variables = {}\n",
    "        for item in self.region:\n",
    "            if item in nom_variables:\n",
    "                continue\n",
    "            else:\n",
    "                nom_variables[item] = 0\n",
    "        for item in self.region:\n",
    "            if item in nom_variables:\n",
    "                nom_variables[item] += 1\n",
    "        \n",
    "        text = ''\n",
    "        for key, value in list(nom_variables.items()):\n",
    "            text += '{}% live in {} '.format(round((value/len(self.region)*100), 2), key)\n",
    "        print(text)\n",
    "        \n",
    "    def stat_children(self):\n",
    "        nom_variables = {}\n",
    "        for item in self.children:\n",
    "            if item in nom_variables:\n",
    "                continue\n",
    "            else:\n",
    "                nom_variables[item] = 0\n",
    "        for item in self.children:\n",
    "            if item in nom_variables:\n",
    "                nom_variables[item] += 1\n",
    "        \n",
    "        text = ''\n",
    "        for key, value in list(nom_variables.items()):\n",
    "            text += '{}% have {} '.format(round((value/len(self.children)*100), 2), key)\n",
    "        print(text)\n",
    "        \n",
    "    "
   ]
  },
  {
   "cell_type": "markdown",
   "metadata": {},
   "source": [
    "blabla"
   ]
  },
  {
   "cell_type": "code",
   "execution_count": 73,
   "metadata": {},
   "outputs": [
    {
     "name": "stdout",
     "output_type": "stream",
     "text": [
      "The median age is 39.0, the average age is 39.21 and the age standard deviation is 14.04.\n",
      "49.48% are female 50.52% are male \n",
      "The median BMI is 30.0, the average BMI is 30.17 and the BMI standard deviation is 6.12.\n",
      "42.9% have 0 24.22% have 1 11.73% have 3 17.94% have 2 1.35% have 5 1.87% have 4 \n",
      "20.48% said yes 79.52% said no \n",
      "24.29% live in southwest 27.2% live in southeast 24.29% live in northwest 24.22% live in northeast \n",
      "The median charge is 9381.5$, the average age is 13269.93$ and the age standard deviation is 12105.49$.\n"
     ]
    }
   ],
   "source": [
    "insurance_data = InsuranceData(age, sex, bmi, children, smoker, region, charges)\n",
    "insurance_data.stat_age()\n",
    "insurance_data.stat_sex()\n",
    "insurance_data.stat_bmi()\n",
    "insurance_data.stat_children()\n",
    "insurance_data.stat_smoker()\n",
    "insurance_data.stat_region()\n",
    "insurance_data.stat_charges()"
   ]
  }
 ],
 "metadata": {
  "kernelspec": {
   "display_name": "Python 3",
   "language": "python",
   "name": "python3"
  },
  "language_info": {
   "codemirror_mode": {
    "name": "ipython",
    "version": 3
   },
   "file_extension": ".py",
   "mimetype": "text/x-python",
   "name": "python",
   "nbconvert_exporter": "python",
   "pygments_lexer": "ipython3",
   "version": "3.8.3"
  }
 },
 "nbformat": 4,
 "nbformat_minor": 4
}
