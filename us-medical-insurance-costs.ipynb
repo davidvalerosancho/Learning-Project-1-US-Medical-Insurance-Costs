{
 "cells": [
  {
   "cell_type": "markdown",
   "metadata": {},
   "source": [
    "# U.S. Medical Insurance Costs\n",
    "\n",
    "In this project I apply my knowledge on Python functions and classes to analyze real data on US medical insurance costs. This project is meant as a steping stone in my development as a professional Data Scientist."
   ]
  },
  {
   "cell_type": "markdown",
   "metadata": {},
   "source": [
    "For this project I will be working with a csv file containing data on a number of US patients. First I define a function which gets the column names of the csv file and turns them into a python list."
   ]
  },
  {
   "cell_type": "code",
   "execution_count": 43,
   "metadata": {},
   "outputs": [],
   "source": [
    "def column_names_list(csv_reader):\n",
    "    first_row = {}\n",
    "    count = 0\n",
    "    for row in csv_reader:\n",
    "        while count < 1:\n",
    "            first_row = row\n",
    "            count += 1\n",
    "    column_names_list = []\n",
    "    for column_name in first_row.keys():\n",
    "        column_names_list.append(column_name)\n",
    "    return column_names_list"
   ]
  },
  {
   "cell_type": "markdown",
   "metadata": {},
   "source": [
    "I use my `column_names_list` function to print out the column names. Now I know what kind of variables are contained in the data set."
   ]
  },
  {
   "cell_type": "code",
   "execution_count": 44,
   "metadata": {},
   "outputs": [
    {
     "name": "stdout",
     "output_type": "stream",
     "text": [
      "age\n",
      "sex\n",
      "bmi\n",
      "children\n",
      "smoker\n",
      "region\n",
      "charges\n"
     ]
    }
   ],
   "source": [
    "import csv\n",
    "\n",
    "with open(r'C:\\Users\\dvale\\Desktop\\insurance.csv') as insurance_csv:\n",
    "    insurance_reader = csv.DictReader(insurance_csv)\n",
    "    insurance_column_names_list = column_names_list(insurance_reader)\n",
    "    for name in insurance_column_names_list:\n",
    "        print(name)"
   ]
  },
  {
   "cell_type": "markdown",
   "metadata": {},
   "source": [
    "I store the values of each column as individual lists."
   ]
  },
  {
   "cell_type": "code",
   "execution_count": 87,
   "metadata": {},
   "outputs": [],
   "source": [
    "age = []\n",
    "sex = []\n",
    "bmi = []\n",
    "children = []\n",
    "smoker = []\n",
    "region = []\n",
    "charges = []\n",
    "\n",
    "with open(r'C:\\Users\\dvale\\Desktop\\insurance.csv') as insurance_csv:\n",
    "    insurance_reader = csv.DictReader(insurance_csv)\n",
    "    for row in insurance_reader:\n",
    "        age.append(row['age'])\n",
    "        sex.append(row['sex'])\n",
    "        bmi.append(row['bmi'])\n",
    "        children.append(row['children'])\n",
    "        smoker.append(row['smoker'])\n",
    "        region.append(row['region'])\n",
    "        charges.append(row['charges'])"
   ]
  },
  {
   "cell_type": "markdown",
   "metadata": {},
   "source": [
    "And also create a dictionary containing all the information in the data set."
   ]
  },
  {
   "cell_type": "code",
   "execution_count": 58,
   "metadata": {},
   "outputs": [],
   "source": [
    "insurance_dict = {}\n",
    "\n",
    "with open(r'C:\\Users\\dvale\\Desktop\\insurance.csv') as insurance_csv:\n",
    "    insurance_reader = csv.DictReader(insurance_csv)\n",
    "    insurance_column_names_list = column_names_list(insurance_reader)\n",
    "    for name in insurance_column_names_list:\n",
    "        insurance_dict[name] = []\n",
    "\n",
    "insurance_dict['age'] = age\n",
    "insurance_dict['sex'] = sex\n",
    "insurance_dict['bmi'] = bmi\n",
    "insurance_dict['children'] = children\n",
    "insurance_dict['smoker'] = smoker\n",
    "insurance_dict['region'] = region\n",
    "insurance_dict['charges'] = charges"
   ]
  },
  {
   "cell_type": "markdown",
   "metadata": {},
   "source": [
    "Once I have my dictionary I can make sure there is no missing values. I can also check which of my variables are categorical and which are continious."
   ]
  },
  {
   "cell_type": "code",
   "execution_count": 71,
   "metadata": {},
   "outputs": [
    {
     "name": "stdout",
     "output_type": "stream",
     "text": [
      "Name of value: age, Num of values: 1338, Value example: 19, Python class type: <class 'str'>\n",
      "Name of value: sex, Num of values: 1338, Value example: female, Python class type: <class 'str'>\n",
      "Name of value: bmi, Num of values: 1338, Value example: 27.9, Python class type: <class 'str'>\n",
      "Name of value: children, Num of values: 1338, Value example: 0, Python class type: <class 'str'>\n",
      "Name of value: smoker, Num of values: 1338, Value example: yes, Python class type: <class 'str'>\n",
      "Name of value: region, Num of values: 1338, Value example: southwest, Python class type: <class 'str'>\n",
      "Name of value: charges, Num of values: 1338, Value example: 16884.924, Python class type: <class 'str'>\n"
     ]
    }
   ],
   "source": [
    "for key, value in insurance_dict.items():\n",
    "    print('Name of value: {}, Num of values: {}, Value example: {}, Python class type: {}'.format(key, len(value), value[0], type(value[0])))"
   ]
  },
  {
   "cell_type": "markdown",
   "metadata": {},
   "source": [
    "Since my countinious variables have `class 'str'` I need to update their types ino `int` and `float`."
   ]
  },
  {
   "cell_type": "code",
   "execution_count": 108,
   "metadata": {},
   "outputs": [],
   "source": [
    "updated_insurance_dict = {}\n",
    "for key in insurance_dict.keys():\n",
    "    updated_insurance_dict[key] = []\n",
    "\n",
    "for key, value in insurance_dict.items():\n",
    "    try:\n",
    "        for item in value:\n",
    "            updated_insurance_dict[key].append(int(item))\n",
    "    except ValueError:\n",
    "        try:\n",
    "            for item in value:\n",
    "                updated_insurance_dict[key].append(float(item))\n",
    "        except ValueError:\n",
    "            for item in value:\n",
    "                updated_insurance_dict[key].append(item)\n",
    "\n",
    "insurance_dict = updated_insurance_dict\n",
    "\n",
    "age = insurance_dict['age']\n",
    "bmi = insurance_dict['bmi']\n",
    "children = insurance_dict['children']\n",
    "charges = insurance_dict['charges']"
   ]
  },
  {
   "cell_type": "code",
   "execution_count": null,
   "metadata": {},
   "outputs": [],
   "source": []
  },
  {
   "cell_type": "code",
   "execution_count": 67,
   "metadata": {},
   "outputs": [
    {
     "ename": "TypeError",
     "evalue": "unsupported operand type(s) for +: 'int' and 'str'",
     "output_type": "error",
     "traceback": [
      "\u001b[1;31m---------------------------------------------------------------------------\u001b[0m",
      "\u001b[1;31mTypeError\u001b[0m                                 Traceback (most recent call last)",
      "\u001b[1;32m<ipython-input-67-784481a20d0d>\u001b[0m in \u001b[0;36m<module>\u001b[1;34m\u001b[0m\n\u001b[0;32m     13\u001b[0m \u001b[1;33m\u001b[0m\u001b[0m\n\u001b[0;32m     14\u001b[0m \u001b[0minsurance_data\u001b[0m \u001b[1;33m=\u001b[0m \u001b[0mInsuranceData\u001b[0m\u001b[1;33m(\u001b[0m\u001b[0mage\u001b[0m\u001b[1;33m,\u001b[0m \u001b[0msex\u001b[0m\u001b[1;33m,\u001b[0m \u001b[0mbmi\u001b[0m\u001b[1;33m,\u001b[0m \u001b[0mchildren\u001b[0m\u001b[1;33m,\u001b[0m \u001b[0msmoker\u001b[0m\u001b[1;33m,\u001b[0m \u001b[0mregion\u001b[0m\u001b[1;33m,\u001b[0m \u001b[0mcharges\u001b[0m\u001b[1;33m)\u001b[0m\u001b[1;33m\u001b[0m\u001b[1;33m\u001b[0m\u001b[0m\n\u001b[1;32m---> 15\u001b[1;33m \u001b[0minsurance_data\u001b[0m\u001b[1;33m.\u001b[0m\u001b[0mavg_age\u001b[0m\u001b[1;33m(\u001b[0m\u001b[1;33m)\u001b[0m\u001b[1;33m\u001b[0m\u001b[1;33m\u001b[0m\u001b[0m\n\u001b[0m",
      "\u001b[1;32m<ipython-input-67-784481a20d0d>\u001b[0m in \u001b[0;36mavg_age\u001b[1;34m(self)\u001b[0m\n\u001b[0;32m     10\u001b[0m \u001b[1;33m\u001b[0m\u001b[0m\n\u001b[0;32m     11\u001b[0m     \u001b[1;32mdef\u001b[0m \u001b[0mavg_age\u001b[0m\u001b[1;33m(\u001b[0m\u001b[0mself\u001b[0m\u001b[1;33m)\u001b[0m\u001b[1;33m:\u001b[0m\u001b[1;33m\u001b[0m\u001b[1;33m\u001b[0m\u001b[0m\n\u001b[1;32m---> 12\u001b[1;33m         \u001b[1;32mreturn\u001b[0m \u001b[0msum\u001b[0m\u001b[1;33m(\u001b[0m\u001b[0mself\u001b[0m\u001b[1;33m.\u001b[0m\u001b[0mage\u001b[0m\u001b[1;33m)\u001b[0m \u001b[1;33m/\u001b[0m \u001b[0mlen\u001b[0m\u001b[1;33m(\u001b[0m\u001b[0mself\u001b[0m\u001b[1;33m.\u001b[0m\u001b[0mage\u001b[0m\u001b[1;33m)\u001b[0m\u001b[1;33m\u001b[0m\u001b[1;33m\u001b[0m\u001b[0m\n\u001b[0m\u001b[0;32m     13\u001b[0m \u001b[1;33m\u001b[0m\u001b[0m\n\u001b[0;32m     14\u001b[0m \u001b[0minsurance_data\u001b[0m \u001b[1;33m=\u001b[0m \u001b[0mInsuranceData\u001b[0m\u001b[1;33m(\u001b[0m\u001b[0mage\u001b[0m\u001b[1;33m,\u001b[0m \u001b[0msex\u001b[0m\u001b[1;33m,\u001b[0m \u001b[0mbmi\u001b[0m\u001b[1;33m,\u001b[0m \u001b[0mchildren\u001b[0m\u001b[1;33m,\u001b[0m \u001b[0msmoker\u001b[0m\u001b[1;33m,\u001b[0m \u001b[0mregion\u001b[0m\u001b[1;33m,\u001b[0m \u001b[0mcharges\u001b[0m\u001b[1;33m)\u001b[0m\u001b[1;33m\u001b[0m\u001b[1;33m\u001b[0m\u001b[0m\n",
      "\u001b[1;31mTypeError\u001b[0m: unsupported operand type(s) for +: 'int' and 'str'"
     ]
    }
   ],
   "source": [
    "class InsuranceData:\n",
    "    def __init__(self, age, sex, bmi, children, smoker, region, charges):\n",
    "        self.age = age\n",
    "        self.sex = sex\n",
    "        self.bmi = bmi\n",
    "        self.children = children\n",
    "        self.smoker = smoker\n",
    "        self.region = region\n",
    "        self.charges = charges\n",
    "    \n",
    "    def avg_age(self):\n",
    "        return sum(self.age) / len(self.age)\n",
    "\n",
    "insurance_data = InsuranceData(age, sex, bmi, children, smoker, region, charges)\n",
    "insurance_data.avg_age()"
   ]
  },
  {
   "cell_type": "code",
   "execution_count": null,
   "metadata": {},
   "outputs": [],
   "source": []
  }
 ],
 "metadata": {
  "kernelspec": {
   "display_name": "Python 3",
   "language": "python",
   "name": "python3"
  },
  "language_info": {
   "codemirror_mode": {
    "name": "ipython",
    "version": 3
   },
   "file_extension": ".py",
   "mimetype": "text/x-python",
   "name": "python",
   "nbconvert_exporter": "python",
   "pygments_lexer": "ipython3",
   "version": "3.8.3"
  }
 },
 "nbformat": 4,
 "nbformat_minor": 4
}
