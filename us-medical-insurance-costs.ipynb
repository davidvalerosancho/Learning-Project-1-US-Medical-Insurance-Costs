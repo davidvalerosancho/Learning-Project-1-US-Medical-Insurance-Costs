{
 "cells": [
  {
   "cell_type": "markdown",
   "metadata": {},
   "source": [
    "# U.S. Medical Insurance Costs"
   ]
  },
  {
   "cell_type": "code",
   "execution_count": 43,
   "metadata": {},
   "outputs": [],
   "source": [
    "def column_names_list(csv_reader):\n",
    "    first_row = {}\n",
    "    count = 0\n",
    "    for row in csv_reader:\n",
    "        while count < 1:\n",
    "            first_row = row\n",
    "            count += 1\n",
    "    column_names_list = []\n",
    "    for column_name in first_row.keys():\n",
    "        column_names_list.append(column_name)\n",
    "    return column_names_list"
   ]
  },
  {
   "cell_type": "code",
   "execution_count": 44,
   "metadata": {},
   "outputs": [
    {
     "name": "stdout",
     "output_type": "stream",
     "text": [
      "age\n",
      "sex\n",
      "bmi\n",
      "children\n",
      "smoker\n",
      "region\n",
      "charges\n"
     ]
    }
   ],
   "source": [
    "import csv\n",
    "\n",
    "with open(r'C:\\Users\\dvale\\Desktop\\insurance.csv') as insurance_csv:\n",
    "    insurance_reader = csv.DictReader(insurance_csv)\n",
    "    insurance_column_names_list = column_names_list(insurance_reader)\n",
    "    for name in insurance_column_names_list:\n",
    "        print(name)"
   ]
  },
  {
   "cell_type": "code",
   "execution_count": 52,
   "metadata": {},
   "outputs": [],
   "source": [
    "age = []\n",
    "sex = []\n",
    "bmi = []\n",
    "children = []\n",
    "smoker = []\n",
    "region = []\n",
    "charges = []\n",
    "\n",
    "with open(r'C:\\Users\\dvale\\Desktop\\insurance.csv') as insurance_csv:\n",
    "    insurance_reader = csv.DictReader(insurance_csv)\n",
    "    for row in insurance_reader:\n",
    "        age.append(row['age'])\n",
    "        sex.append(row['sex'])\n",
    "        bmi.append(row['bmi'])\n",
    "        children.append(row['children'])\n",
    "        smoker.append(row['smoker'])\n",
    "        region.append(row['region'])\n",
    "        charges.append(row['charges'])"
   ]
  },
  {
   "cell_type": "code",
   "execution_count": 58,
   "metadata": {},
   "outputs": [],
   "source": [
    "insurance_dict = {}\n",
    "\n",
    "with open(r'C:\\Users\\dvale\\Desktop\\insurance.csv') as insurance_csv:\n",
    "    insurance_reader = csv.DictReader(insurance_csv)\n",
    "    insurance_column_names_list = column_names_list(insurance_reader)\n",
    "    for name in insurance_column_names_list:\n",
    "        insurance_dict[name] = []\n",
    "\n",
    "insurance_dict['age'] = age\n",
    "insurance_dict['sex'] = sex\n",
    "insurance_dict['bmi'] = bmi\n",
    "insurance_dict['children'] = children\n",
    "insurance_dict['smoker'] = smoker\n",
    "insurance_dict['region'] = region\n",
    "insurance_dict['charges'] = charges"
   ]
  },
  {
   "cell_type": "code",
   "execution_count": 66,
   "metadata": {},
   "outputs": [
    {
     "name": "stdout",
     "output_type": "stream",
     "text": [
      "Name of value: age, Num of values: 1338, Value example: 19\n",
      "Name of value: sex, Num of values: 1338, Value example: female\n",
      "Name of value: bmi, Num of values: 1338, Value example: 27.9\n",
      "Name of value: children, Num of values: 1338, Value example: 0\n",
      "Name of value: smoker, Num of values: 1338, Value example: yes\n",
      "Name of value: region, Num of values: 1338, Value example: southwest\n",
      "Name of value: charges, Num of values: 1338, Value example: 16884.924\n"
     ]
    }
   ],
   "source": [
    "for key, value in insurance_dict.items():\n",
    "    print('Name of value: {}, Num of values: {}, Value example: {}'.format(key, len(value), value[0]))"
   ]
  },
  {
   "cell_type": "code",
   "execution_count": null,
   "metadata": {},
   "outputs": [],
   "source": [
    "class InsuranceInfo:\n",
    "    pass"
   ]
  }
 ],
 "metadata": {
  "kernelspec": {
   "display_name": "Python 3",
   "language": "python",
   "name": "python3"
  },
  "language_info": {
   "codemirror_mode": {
    "name": "ipython",
    "version": 3
   },
   "file_extension": ".py",
   "mimetype": "text/x-python",
   "name": "python",
   "nbconvert_exporter": "python",
   "pygments_lexer": "ipython3",
   "version": "3.8.3"
  }
 },
 "nbformat": 4,
 "nbformat_minor": 4
}
